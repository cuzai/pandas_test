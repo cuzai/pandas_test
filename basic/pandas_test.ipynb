{
 "cells": [
  {
   "cell_type": "code",
   "execution_count": 3,
   "metadata": {},
   "outputs": [],
   "source": [
    "import pandas as pd\n",
    "import numpy as np"
   ]
  },
  {
   "cell_type": "code",
   "execution_count": 4,
   "metadata": {},
   "outputs": [
    {
     "output_type": "execute_result",
     "data": {
      "text/plain": "0    10\n1    20\n2    30\ndtype: int64"
     },
     "metadata": {},
     "execution_count": 4
    }
   ],
   "source": [
    "ser1 = pd.Series( [10, 20, 30] )\n",
    "ser1"
   ]
  },
  {
   "cell_type": "code",
   "execution_count": 5,
   "metadata": {},
   "outputs": [
    {
     "output_type": "execute_result",
     "data": {
      "text/plain": "a    10\nb    20\nc    30\ndtype: int64"
     },
     "metadata": {},
     "execution_count": 5
    }
   ],
   "source": [
    "ser1.index = ['a', 'b', 'c']\n",
    "ser1"
   ]
  },
  {
   "cell_type": "code",
   "execution_count": 6,
   "metadata": {},
   "outputs": [
    {
     "output_type": "execute_result",
     "data": {
      "text/plain": "a    100\nb    200\nc    300\ndtype: int64"
     },
     "metadata": {},
     "execution_count": 6
    }
   ],
   "source": [
    "ser2 = pd.Series( {'a' : 100, 'b' : 200, 'c' : 300} )\n",
    "ser2"
   ]
  },
  {
   "cell_type": "code",
   "execution_count": 7,
   "metadata": {},
   "outputs": [
    {
     "output_type": "execute_result",
     "data": {
      "text/plain": "USA        1\nGermany    2\nFance      3\nJapan      4\ndtype: int64"
     },
     "metadata": {},
     "execution_count": 7
    }
   ],
   "source": [
    "ser3 = pd.Series( data = [1,2,3,4], index = ['USA', 'Germany', 'Fance', 'Japan'])\n",
    "ser3"
   ]
  },
  {
   "cell_type": "code",
   "execution_count": 8,
   "metadata": {},
   "outputs": [
    {
     "output_type": "execute_result",
     "data": {
      "text/plain": "USA        1\nGermany    2\nItaly      5\nJapan      4\ndtype: int64"
     },
     "metadata": {},
     "execution_count": 8
    }
   ],
   "source": [
    "ser4 = pd.Series( [1,2,5,4], index = ['USA', 'Germany', 'Italy', 'Japan'])\n",
    "ser4"
   ]
  },
  {
   "cell_type": "code",
   "execution_count": 9,
   "metadata": {},
   "outputs": [
    {
     "output_type": "execute_result",
     "data": {
      "text/plain": "Fance      NaN\nGermany    4.0\nItaly      NaN\nJapan      8.0\nUSA        2.0\ndtype: float64"
     },
     "metadata": {},
     "execution_count": 9
    }
   ],
   "source": [
    "ser3 + ser4"
   ]
  },
  {
   "cell_type": "code",
   "execution_count": 10,
   "metadata": {},
   "outputs": [],
   "source": [
    "df = pd.read_csv('gapminder.csv', index_col=\"Unnamed: 0\")"
   ]
  },
  {
   "cell_type": "code",
   "execution_count": 11,
   "metadata": {},
   "outputs": [
    {
     "output_type": "execute_result",
     "data": {
      "text/plain": "   year continent                 country   income  life_exp   population\n0  2014      asia             Philippines   6598.0      70.7  100102249.0\n1  2014  americas                Paraguay   8038.0      74.3    6552584.0\n2  2014      asia                   Palau  14078.0       NaN      21094.0\n3  2014      asia                Pakistan   4619.0      65.6  185546257.0\n4  2014  americas  St.-Pierre-et-Miquelon      NaN       NaN       6277.0",
      "text/html": "<div>\n<style scoped>\n    .dataframe tbody tr th:only-of-type {\n        vertical-align: middle;\n    }\n\n    .dataframe tbody tr th {\n        vertical-align: top;\n    }\n\n    .dataframe thead th {\n        text-align: right;\n    }\n</style>\n<table border=\"1\" class=\"dataframe\">\n  <thead>\n    <tr style=\"text-align: right;\">\n      <th></th>\n      <th>year</th>\n      <th>continent</th>\n      <th>country</th>\n      <th>income</th>\n      <th>life_exp</th>\n      <th>population</th>\n    </tr>\n  </thead>\n  <tbody>\n    <tr>\n      <th>0</th>\n      <td>2014</td>\n      <td>asia</td>\n      <td>Philippines</td>\n      <td>6598.0</td>\n      <td>70.7</td>\n      <td>100102249.0</td>\n    </tr>\n    <tr>\n      <th>1</th>\n      <td>2014</td>\n      <td>americas</td>\n      <td>Paraguay</td>\n      <td>8038.0</td>\n      <td>74.3</td>\n      <td>6552584.0</td>\n    </tr>\n    <tr>\n      <th>2</th>\n      <td>2014</td>\n      <td>asia</td>\n      <td>Palau</td>\n      <td>14078.0</td>\n      <td>NaN</td>\n      <td>21094.0</td>\n    </tr>\n    <tr>\n      <th>3</th>\n      <td>2014</td>\n      <td>asia</td>\n      <td>Pakistan</td>\n      <td>4619.0</td>\n      <td>65.6</td>\n      <td>185546257.0</td>\n    </tr>\n    <tr>\n      <th>4</th>\n      <td>2014</td>\n      <td>americas</td>\n      <td>St.-Pierre-et-Miquelon</td>\n      <td>NaN</td>\n      <td>NaN</td>\n      <td>6277.0</td>\n    </tr>\n  </tbody>\n</table>\n</div>"
     },
     "metadata": {},
     "execution_count": 11
    }
   ],
   "source": [
    "df.head()"
   ]
  },
  {
   "cell_type": "code",
   "execution_count": 12,
   "metadata": {},
   "outputs": [
    {
     "output_type": "execute_result",
     "data": {
      "text/plain": "0     6598.0\n1     8038.0\n2    14078.0\n3     4619.0\n4        NaN\nName: income, dtype: float64"
     },
     "metadata": {},
     "execution_count": 12
    }
   ],
   "source": [
    "df['income'][:5]"
   ]
  },
  {
   "cell_type": "code",
   "execution_count": 13,
   "metadata": {},
   "outputs": [
    {
     "output_type": "execute_result",
     "data": {
      "text/plain": "       year continent                 country   income  life_exp   population  \\\n0      2014      asia             Philippines   6598.0      70.7  100102249.0   \n1      2014  americas                Paraguay   8038.0      74.3    6552584.0   \n2      2014      asia                   Palau  14078.0       NaN      21094.0   \n3      2014      asia                Pakistan   4619.0      65.6  185546257.0   \n4      2014  americas  St.-Pierre-et-Miquelon      NaN       NaN       6277.0   \n...     ...       ...                     ...      ...       ...          ...   \n54484  1800  americas  St.-Pierre-et-Miquelon      NaN       NaN       1782.0   \n54485  1800    europe                Svalbard      NaN       NaN         50.0   \n54486  1800      asia                 Tokelau      NaN       NaN       1009.0   \n54487  1800      asia   United Korea (former)      NaN       NaN   13740000.0   \n54488  1800    europe              Yugoslavia      NaN       NaN    4687422.0   \n\n       gross_income  \n0      6.604746e+11  \n1      5.266967e+10  \n2      2.969613e+08  \n3      8.570382e+11  \n4               NaN  \n...             ...  \n54484           NaN  \n54485           NaN  \n54486           NaN  \n54487           NaN  \n54488           NaN  \n\n[54489 rows x 7 columns]",
      "text/html": "<div>\n<style scoped>\n    .dataframe tbody tr th:only-of-type {\n        vertical-align: middle;\n    }\n\n    .dataframe tbody tr th {\n        vertical-align: top;\n    }\n\n    .dataframe thead th {\n        text-align: right;\n    }\n</style>\n<table border=\"1\" class=\"dataframe\">\n  <thead>\n    <tr style=\"text-align: right;\">\n      <th></th>\n      <th>year</th>\n      <th>continent</th>\n      <th>country</th>\n      <th>income</th>\n      <th>life_exp</th>\n      <th>population</th>\n      <th>gross_income</th>\n    </tr>\n  </thead>\n  <tbody>\n    <tr>\n      <th>0</th>\n      <td>2014</td>\n      <td>asia</td>\n      <td>Philippines</td>\n      <td>6598.0</td>\n      <td>70.7</td>\n      <td>100102249.0</td>\n      <td>6.604746e+11</td>\n    </tr>\n    <tr>\n      <th>1</th>\n      <td>2014</td>\n      <td>americas</td>\n      <td>Paraguay</td>\n      <td>8038.0</td>\n      <td>74.3</td>\n      <td>6552584.0</td>\n      <td>5.266967e+10</td>\n    </tr>\n    <tr>\n      <th>2</th>\n      <td>2014</td>\n      <td>asia</td>\n      <td>Palau</td>\n      <td>14078.0</td>\n      <td>NaN</td>\n      <td>21094.0</td>\n      <td>2.969613e+08</td>\n    </tr>\n    <tr>\n      <th>3</th>\n      <td>2014</td>\n      <td>asia</td>\n      <td>Pakistan</td>\n      <td>4619.0</td>\n      <td>65.6</td>\n      <td>185546257.0</td>\n      <td>8.570382e+11</td>\n    </tr>\n    <tr>\n      <th>4</th>\n      <td>2014</td>\n      <td>americas</td>\n      <td>St.-Pierre-et-Miquelon</td>\n      <td>NaN</td>\n      <td>NaN</td>\n      <td>6277.0</td>\n      <td>NaN</td>\n    </tr>\n    <tr>\n      <th>...</th>\n      <td>...</td>\n      <td>...</td>\n      <td>...</td>\n      <td>...</td>\n      <td>...</td>\n      <td>...</td>\n      <td>...</td>\n    </tr>\n    <tr>\n      <th>54484</th>\n      <td>1800</td>\n      <td>americas</td>\n      <td>St.-Pierre-et-Miquelon</td>\n      <td>NaN</td>\n      <td>NaN</td>\n      <td>1782.0</td>\n      <td>NaN</td>\n    </tr>\n    <tr>\n      <th>54485</th>\n      <td>1800</td>\n      <td>europe</td>\n      <td>Svalbard</td>\n      <td>NaN</td>\n      <td>NaN</td>\n      <td>50.0</td>\n      <td>NaN</td>\n    </tr>\n    <tr>\n      <th>54486</th>\n      <td>1800</td>\n      <td>asia</td>\n      <td>Tokelau</td>\n      <td>NaN</td>\n      <td>NaN</td>\n      <td>1009.0</td>\n      <td>NaN</td>\n    </tr>\n    <tr>\n      <th>54487</th>\n      <td>1800</td>\n      <td>asia</td>\n      <td>United Korea (former)</td>\n      <td>NaN</td>\n      <td>NaN</td>\n      <td>13740000.0</td>\n      <td>NaN</td>\n    </tr>\n    <tr>\n      <th>54488</th>\n      <td>1800</td>\n      <td>europe</td>\n      <td>Yugoslavia</td>\n      <td>NaN</td>\n      <td>NaN</td>\n      <td>4687422.0</td>\n      <td>NaN</td>\n    </tr>\n  </tbody>\n</table>\n<p>54489 rows × 7 columns</p>\n</div>"
     },
     "metadata": {},
     "execution_count": 13
    }
   ],
   "source": [
    "df['gross_income'] = df['income'] * df['population']\n",
    "df"
   ]
  },
  {
   "cell_type": "code",
   "execution_count": 14,
   "metadata": {},
   "outputs": [
    {
     "output_type": "execute_result",
     "data": {
      "text/plain": "       year continent                 country   income  life_exp   population\n0      2014      asia             Philippines   6598.0      70.7  100102249.0\n1      2014  americas                Paraguay   8038.0      74.3    6552584.0\n2      2014      asia                   Palau  14078.0       NaN      21094.0\n3      2014      asia                Pakistan   4619.0      65.6  185546257.0\n4      2014  americas  St.-Pierre-et-Miquelon      NaN       NaN       6277.0\n...     ...       ...                     ...      ...       ...          ...\n54484  1800  americas  St.-Pierre-et-Miquelon      NaN       NaN       1782.0\n54485  1800    europe                Svalbard      NaN       NaN         50.0\n54486  1800      asia                 Tokelau      NaN       NaN       1009.0\n54487  1800      asia   United Korea (former)      NaN       NaN   13740000.0\n54488  1800    europe              Yugoslavia      NaN       NaN    4687422.0\n\n[54489 rows x 6 columns]",
      "text/html": "<div>\n<style scoped>\n    .dataframe tbody tr th:only-of-type {\n        vertical-align: middle;\n    }\n\n    .dataframe tbody tr th {\n        vertical-align: top;\n    }\n\n    .dataframe thead th {\n        text-align: right;\n    }\n</style>\n<table border=\"1\" class=\"dataframe\">\n  <thead>\n    <tr style=\"text-align: right;\">\n      <th></th>\n      <th>year</th>\n      <th>continent</th>\n      <th>country</th>\n      <th>income</th>\n      <th>life_exp</th>\n      <th>population</th>\n    </tr>\n  </thead>\n  <tbody>\n    <tr>\n      <th>0</th>\n      <td>2014</td>\n      <td>asia</td>\n      <td>Philippines</td>\n      <td>6598.0</td>\n      <td>70.7</td>\n      <td>100102249.0</td>\n    </tr>\n    <tr>\n      <th>1</th>\n      <td>2014</td>\n      <td>americas</td>\n      <td>Paraguay</td>\n      <td>8038.0</td>\n      <td>74.3</td>\n      <td>6552584.0</td>\n    </tr>\n    <tr>\n      <th>2</th>\n      <td>2014</td>\n      <td>asia</td>\n      <td>Palau</td>\n      <td>14078.0</td>\n      <td>NaN</td>\n      <td>21094.0</td>\n    </tr>\n    <tr>\n      <th>3</th>\n      <td>2014</td>\n      <td>asia</td>\n      <td>Pakistan</td>\n      <td>4619.0</td>\n      <td>65.6</td>\n      <td>185546257.0</td>\n    </tr>\n    <tr>\n      <th>4</th>\n      <td>2014</td>\n      <td>americas</td>\n      <td>St.-Pierre-et-Miquelon</td>\n      <td>NaN</td>\n      <td>NaN</td>\n      <td>6277.0</td>\n    </tr>\n    <tr>\n      <th>...</th>\n      <td>...</td>\n      <td>...</td>\n      <td>...</td>\n      <td>...</td>\n      <td>...</td>\n      <td>...</td>\n    </tr>\n    <tr>\n      <th>54484</th>\n      <td>1800</td>\n      <td>americas</td>\n      <td>St.-Pierre-et-Miquelon</td>\n      <td>NaN</td>\n      <td>NaN</td>\n      <td>1782.0</td>\n    </tr>\n    <tr>\n      <th>54485</th>\n      <td>1800</td>\n      <td>europe</td>\n      <td>Svalbard</td>\n      <td>NaN</td>\n      <td>NaN</td>\n      <td>50.0</td>\n    </tr>\n    <tr>\n      <th>54486</th>\n      <td>1800</td>\n      <td>asia</td>\n      <td>Tokelau</td>\n      <td>NaN</td>\n      <td>NaN</td>\n      <td>1009.0</td>\n    </tr>\n    <tr>\n      <th>54487</th>\n      <td>1800</td>\n      <td>asia</td>\n      <td>United Korea (former)</td>\n      <td>NaN</td>\n      <td>NaN</td>\n      <td>13740000.0</td>\n    </tr>\n    <tr>\n      <th>54488</th>\n      <td>1800</td>\n      <td>europe</td>\n      <td>Yugoslavia</td>\n      <td>NaN</td>\n      <td>NaN</td>\n      <td>4687422.0</td>\n    </tr>\n  </tbody>\n</table>\n<p>54489 rows × 6 columns</p>\n</div>"
     },
     "metadata": {},
     "execution_count": 14
    }
   ],
   "source": [
    "df.drop( labels='gross_income', axis = 1, inplace = True )\n",
    "df"
   ]
  },
  {
   "cell_type": "code",
   "execution_count": 15,
   "metadata": {},
   "outputs": [
    {
     "output_type": "execute_result",
     "data": {
      "text/plain": "year                 2014\ncontinent            asia\ncountry          Pakistan\nincome               4619\nlife_exp             65.6\npopulation    1.85546e+08\nName: 3, dtype: object"
     },
     "metadata": {},
     "execution_count": 15
    }
   ],
   "source": [
    "df.loc[3]"
   ]
  },
  {
   "cell_type": "code",
   "execution_count": 16,
   "metadata": {},
   "outputs": [
    {
     "output_type": "execute_result",
     "data": {
      "text/plain": "'St.-Pierre-et-Miquelon'"
     },
     "metadata": {},
     "execution_count": 16
    }
   ],
   "source": [
    "df.loc[4, 'country']"
   ]
  },
  {
   "cell_type": "code",
   "execution_count": 17,
   "metadata": {},
   "outputs": [
    {
     "output_type": "execute_result",
     "data": {
      "text/plain": "     continent           country\n10        asia  Papua New Guinea\n100     africa           Namibia\n1000    africa        Cape Verde",
      "text/html": "<div>\n<style scoped>\n    .dataframe tbody tr th:only-of-type {\n        vertical-align: middle;\n    }\n\n    .dataframe tbody tr th {\n        vertical-align: top;\n    }\n\n    .dataframe thead th {\n        text-align: right;\n    }\n</style>\n<table border=\"1\" class=\"dataframe\">\n  <thead>\n    <tr style=\"text-align: right;\">\n      <th></th>\n      <th>continent</th>\n      <th>country</th>\n    </tr>\n  </thead>\n  <tbody>\n    <tr>\n      <th>10</th>\n      <td>asia</td>\n      <td>Papua New Guinea</td>\n    </tr>\n    <tr>\n      <th>100</th>\n      <td>africa</td>\n      <td>Namibia</td>\n    </tr>\n    <tr>\n      <th>1000</th>\n      <td>africa</td>\n      <td>Cape Verde</td>\n    </tr>\n  </tbody>\n</table>\n</div>"
     },
     "metadata": {},
     "execution_count": 17
    }
   ],
   "source": [
    "df.loc[ [10, 100, 1000], ['continent', 'country'] ]"
   ]
  },
  {
   "cell_type": "code",
   "execution_count": 18,
   "metadata": {},
   "outputs": [
    {
     "output_type": "execute_result",
     "data": {
      "text/plain": "       year continent           country    income  life_exp  population\n6      2014    europe            Norway   64020.0     82.00   5140311.0\n27     2014      asia      Macao, China  142893.0     80.61    588781.0\n53     2014      asia  Hong Kong, China   52552.0     83.56   7194563.0\n56     2014    europe        Luxembourg   88203.0     82.10    556316.0\n77     2014      asia            Kuwait   83394.0     80.20   3782450.0\n...     ...       ...               ...       ...       ...         ...\n15196  1954      asia            Brunei   57771.0     58.83     60120.0\n15455  1953      asia            Brunei   56876.0     58.22     56968.0\n15629  1952      asia            Brunei   55994.0     57.60     53927.0\n15951  1951      asia            Brunei   55126.0     56.99     50961.0\n16136  1950      asia            Brunei   54271.0     56.68     48001.0\n\n[388 rows x 6 columns]",
      "text/html": "<div>\n<style scoped>\n    .dataframe tbody tr th:only-of-type {\n        vertical-align: middle;\n    }\n\n    .dataframe tbody tr th {\n        vertical-align: top;\n    }\n\n    .dataframe thead th {\n        text-align: right;\n    }\n</style>\n<table border=\"1\" class=\"dataframe\">\n  <thead>\n    <tr style=\"text-align: right;\">\n      <th></th>\n      <th>year</th>\n      <th>continent</th>\n      <th>country</th>\n      <th>income</th>\n      <th>life_exp</th>\n      <th>population</th>\n    </tr>\n  </thead>\n  <tbody>\n    <tr>\n      <th>6</th>\n      <td>2014</td>\n      <td>europe</td>\n      <td>Norway</td>\n      <td>64020.0</td>\n      <td>82.00</td>\n      <td>5140311.0</td>\n    </tr>\n    <tr>\n      <th>27</th>\n      <td>2014</td>\n      <td>asia</td>\n      <td>Macao, China</td>\n      <td>142893.0</td>\n      <td>80.61</td>\n      <td>588781.0</td>\n    </tr>\n    <tr>\n      <th>53</th>\n      <td>2014</td>\n      <td>asia</td>\n      <td>Hong Kong, China</td>\n      <td>52552.0</td>\n      <td>83.56</td>\n      <td>7194563.0</td>\n    </tr>\n    <tr>\n      <th>56</th>\n      <td>2014</td>\n      <td>europe</td>\n      <td>Luxembourg</td>\n      <td>88203.0</td>\n      <td>82.10</td>\n      <td>556316.0</td>\n    </tr>\n    <tr>\n      <th>77</th>\n      <td>2014</td>\n      <td>asia</td>\n      <td>Kuwait</td>\n      <td>83394.0</td>\n      <td>80.20</td>\n      <td>3782450.0</td>\n    </tr>\n    <tr>\n      <th>...</th>\n      <td>...</td>\n      <td>...</td>\n      <td>...</td>\n      <td>...</td>\n      <td>...</td>\n      <td>...</td>\n    </tr>\n    <tr>\n      <th>15196</th>\n      <td>1954</td>\n      <td>asia</td>\n      <td>Brunei</td>\n      <td>57771.0</td>\n      <td>58.83</td>\n      <td>60120.0</td>\n    </tr>\n    <tr>\n      <th>15455</th>\n      <td>1953</td>\n      <td>asia</td>\n      <td>Brunei</td>\n      <td>56876.0</td>\n      <td>58.22</td>\n      <td>56968.0</td>\n    </tr>\n    <tr>\n      <th>15629</th>\n      <td>1952</td>\n      <td>asia</td>\n      <td>Brunei</td>\n      <td>55994.0</td>\n      <td>57.60</td>\n      <td>53927.0</td>\n    </tr>\n    <tr>\n      <th>15951</th>\n      <td>1951</td>\n      <td>asia</td>\n      <td>Brunei</td>\n      <td>55126.0</td>\n      <td>56.99</td>\n      <td>50961.0</td>\n    </tr>\n    <tr>\n      <th>16136</th>\n      <td>1950</td>\n      <td>asia</td>\n      <td>Brunei</td>\n      <td>54271.0</td>\n      <td>56.68</td>\n      <td>48001.0</td>\n    </tr>\n  </tbody>\n</table>\n<p>388 rows × 6 columns</p>\n</div>"
     },
     "metadata": {},
     "execution_count": 18
    }
   ],
   "source": [
    "df[ df['income'] > 50000 ]"
   ]
  },
  {
   "cell_type": "code",
   "execution_count": 19,
   "metadata": {},
   "outputs": [
    {
     "output_type": "execute_result",
     "data": {
      "text/plain": "    year continent           country    income  life_exp  population\n6   2014    europe            Norway   64020.0     82.00   5140311.0\n27  2014      asia      Macao, China  142893.0     80.61    588781.0\n53  2014      asia  Hong Kong, China   52552.0     83.56   7194563.0\n56  2014    europe        Luxembourg   88203.0     82.10    556316.0\n77  2014      asia            Kuwait   83394.0     80.20   3782450.0",
      "text/html": "<div>\n<style scoped>\n    .dataframe tbody tr th:only-of-type {\n        vertical-align: middle;\n    }\n\n    .dataframe tbody tr th {\n        vertical-align: top;\n    }\n\n    .dataframe thead th {\n        text-align: right;\n    }\n</style>\n<table border=\"1\" class=\"dataframe\">\n  <thead>\n    <tr style=\"text-align: right;\">\n      <th></th>\n      <th>year</th>\n      <th>continent</th>\n      <th>country</th>\n      <th>income</th>\n      <th>life_exp</th>\n      <th>population</th>\n    </tr>\n  </thead>\n  <tbody>\n    <tr>\n      <th>6</th>\n      <td>2014</td>\n      <td>europe</td>\n      <td>Norway</td>\n      <td>64020.0</td>\n      <td>82.00</td>\n      <td>5140311.0</td>\n    </tr>\n    <tr>\n      <th>27</th>\n      <td>2014</td>\n      <td>asia</td>\n      <td>Macao, China</td>\n      <td>142893.0</td>\n      <td>80.61</td>\n      <td>588781.0</td>\n    </tr>\n    <tr>\n      <th>53</th>\n      <td>2014</td>\n      <td>asia</td>\n      <td>Hong Kong, China</td>\n      <td>52552.0</td>\n      <td>83.56</td>\n      <td>7194563.0</td>\n    </tr>\n    <tr>\n      <th>56</th>\n      <td>2014</td>\n      <td>europe</td>\n      <td>Luxembourg</td>\n      <td>88203.0</td>\n      <td>82.10</td>\n      <td>556316.0</td>\n    </tr>\n    <tr>\n      <th>77</th>\n      <td>2014</td>\n      <td>asia</td>\n      <td>Kuwait</td>\n      <td>83394.0</td>\n      <td>80.20</td>\n      <td>3782450.0</td>\n    </tr>\n  </tbody>\n</table>\n</div>"
     },
     "metadata": {},
     "execution_count": 19
    }
   ],
   "source": [
    "df[ (df['income'] > 50000) & (df['life_exp'] > 80) ].head()"
   ]
  },
  {
   "cell_type": "code",
   "execution_count": 20,
   "metadata": {},
   "outputs": [
    {
     "output_type": "execute_result",
     "data": {
      "text/plain": "     continent                 country   income  life_exp   population\nyear                                                                  \n2014      asia             Philippines   6598.0      70.7  100102249.0\n2014  americas                Paraguay   8038.0      74.3    6552584.0\n2014      asia                   Palau  14078.0       NaN      21094.0\n2014      asia                Pakistan   4619.0      65.6  185546257.0\n2014  americas  St.-Pierre-et-Miquelon      NaN       NaN       6277.0\n...        ...                     ...      ...       ...          ...\n1800  americas  St.-Pierre-et-Miquelon      NaN       NaN       1782.0\n1800    europe                Svalbard      NaN       NaN         50.0\n1800      asia                 Tokelau      NaN       NaN       1009.0\n1800      asia   United Korea (former)      NaN       NaN   13740000.0\n1800    europe              Yugoslavia      NaN       NaN    4687422.0\n\n[54489 rows x 5 columns]",
      "text/html": "<div>\n<style scoped>\n    .dataframe tbody tr th:only-of-type {\n        vertical-align: middle;\n    }\n\n    .dataframe tbody tr th {\n        vertical-align: top;\n    }\n\n    .dataframe thead th {\n        text-align: right;\n    }\n</style>\n<table border=\"1\" class=\"dataframe\">\n  <thead>\n    <tr style=\"text-align: right;\">\n      <th></th>\n      <th>continent</th>\n      <th>country</th>\n      <th>income</th>\n      <th>life_exp</th>\n      <th>population</th>\n    </tr>\n    <tr>\n      <th>year</th>\n      <th></th>\n      <th></th>\n      <th></th>\n      <th></th>\n      <th></th>\n    </tr>\n  </thead>\n  <tbody>\n    <tr>\n      <th>2014</th>\n      <td>asia</td>\n      <td>Philippines</td>\n      <td>6598.0</td>\n      <td>70.7</td>\n      <td>100102249.0</td>\n    </tr>\n    <tr>\n      <th>2014</th>\n      <td>americas</td>\n      <td>Paraguay</td>\n      <td>8038.0</td>\n      <td>74.3</td>\n      <td>6552584.0</td>\n    </tr>\n    <tr>\n      <th>2014</th>\n      <td>asia</td>\n      <td>Palau</td>\n      <td>14078.0</td>\n      <td>NaN</td>\n      <td>21094.0</td>\n    </tr>\n    <tr>\n      <th>2014</th>\n      <td>asia</td>\n      <td>Pakistan</td>\n      <td>4619.0</td>\n      <td>65.6</td>\n      <td>185546257.0</td>\n    </tr>\n    <tr>\n      <th>2014</th>\n      <td>americas</td>\n      <td>St.-Pierre-et-Miquelon</td>\n      <td>NaN</td>\n      <td>NaN</td>\n      <td>6277.0</td>\n    </tr>\n    <tr>\n      <th>...</th>\n      <td>...</td>\n      <td>...</td>\n      <td>...</td>\n      <td>...</td>\n      <td>...</td>\n    </tr>\n    <tr>\n      <th>1800</th>\n      <td>americas</td>\n      <td>St.-Pierre-et-Miquelon</td>\n      <td>NaN</td>\n      <td>NaN</td>\n      <td>1782.0</td>\n    </tr>\n    <tr>\n      <th>1800</th>\n      <td>europe</td>\n      <td>Svalbard</td>\n      <td>NaN</td>\n      <td>NaN</td>\n      <td>50.0</td>\n    </tr>\n    <tr>\n      <th>1800</th>\n      <td>asia</td>\n      <td>Tokelau</td>\n      <td>NaN</td>\n      <td>NaN</td>\n      <td>1009.0</td>\n    </tr>\n    <tr>\n      <th>1800</th>\n      <td>asia</td>\n      <td>United Korea (former)</td>\n      <td>NaN</td>\n      <td>NaN</td>\n      <td>13740000.0</td>\n    </tr>\n    <tr>\n      <th>1800</th>\n      <td>europe</td>\n      <td>Yugoslavia</td>\n      <td>NaN</td>\n      <td>NaN</td>\n      <td>4687422.0</td>\n    </tr>\n  </tbody>\n</table>\n<p>54489 rows × 5 columns</p>\n</div>"
     },
     "metadata": {},
     "execution_count": 20
    }
   ],
   "source": [
    "df.set_index('year')"
   ]
  },
  {
   "cell_type": "code",
   "execution_count": 21,
   "metadata": {},
   "outputs": [
    {
     "output_type": "execute_result",
     "data": {
      "text/plain": "       index  year continent                 country   income  life_exp  \\\n0          0  2014      asia             Philippines   6598.0      70.7   \n1          1  2014  americas                Paraguay   8038.0      74.3   \n2          2  2014      asia                   Palau  14078.0       NaN   \n3          3  2014      asia                Pakistan   4619.0      65.6   \n4          4  2014  americas  St.-Pierre-et-Miquelon      NaN       NaN   \n...      ...   ...       ...                     ...      ...       ...   \n54484  54484  1800  americas  St.-Pierre-et-Miquelon      NaN       NaN   \n54485  54485  1800    europe                Svalbard      NaN       NaN   \n54486  54486  1800      asia                 Tokelau      NaN       NaN   \n54487  54487  1800      asia   United Korea (former)      NaN       NaN   \n54488  54488  1800    europe              Yugoslavia      NaN       NaN   \n\n        population  \n0      100102249.0  \n1        6552584.0  \n2          21094.0  \n3      185546257.0  \n4           6277.0  \n...            ...  \n54484       1782.0  \n54485         50.0  \n54486       1009.0  \n54487   13740000.0  \n54488    4687422.0  \n\n[54489 rows x 7 columns]",
      "text/html": "<div>\n<style scoped>\n    .dataframe tbody tr th:only-of-type {\n        vertical-align: middle;\n    }\n\n    .dataframe tbody tr th {\n        vertical-align: top;\n    }\n\n    .dataframe thead th {\n        text-align: right;\n    }\n</style>\n<table border=\"1\" class=\"dataframe\">\n  <thead>\n    <tr style=\"text-align: right;\">\n      <th></th>\n      <th>index</th>\n      <th>year</th>\n      <th>continent</th>\n      <th>country</th>\n      <th>income</th>\n      <th>life_exp</th>\n      <th>population</th>\n    </tr>\n  </thead>\n  <tbody>\n    <tr>\n      <th>0</th>\n      <td>0</td>\n      <td>2014</td>\n      <td>asia</td>\n      <td>Philippines</td>\n      <td>6598.0</td>\n      <td>70.7</td>\n      <td>100102249.0</td>\n    </tr>\n    <tr>\n      <th>1</th>\n      <td>1</td>\n      <td>2014</td>\n      <td>americas</td>\n      <td>Paraguay</td>\n      <td>8038.0</td>\n      <td>74.3</td>\n      <td>6552584.0</td>\n    </tr>\n    <tr>\n      <th>2</th>\n      <td>2</td>\n      <td>2014</td>\n      <td>asia</td>\n      <td>Palau</td>\n      <td>14078.0</td>\n      <td>NaN</td>\n      <td>21094.0</td>\n    </tr>\n    <tr>\n      <th>3</th>\n      <td>3</td>\n      <td>2014</td>\n      <td>asia</td>\n      <td>Pakistan</td>\n      <td>4619.0</td>\n      <td>65.6</td>\n      <td>185546257.0</td>\n    </tr>\n    <tr>\n      <th>4</th>\n      <td>4</td>\n      <td>2014</td>\n      <td>americas</td>\n      <td>St.-Pierre-et-Miquelon</td>\n      <td>NaN</td>\n      <td>NaN</td>\n      <td>6277.0</td>\n    </tr>\n    <tr>\n      <th>...</th>\n      <td>...</td>\n      <td>...</td>\n      <td>...</td>\n      <td>...</td>\n      <td>...</td>\n      <td>...</td>\n      <td>...</td>\n    </tr>\n    <tr>\n      <th>54484</th>\n      <td>54484</td>\n      <td>1800</td>\n      <td>americas</td>\n      <td>St.-Pierre-et-Miquelon</td>\n      <td>NaN</td>\n      <td>NaN</td>\n      <td>1782.0</td>\n    </tr>\n    <tr>\n      <th>54485</th>\n      <td>54485</td>\n      <td>1800</td>\n      <td>europe</td>\n      <td>Svalbard</td>\n      <td>NaN</td>\n      <td>NaN</td>\n      <td>50.0</td>\n    </tr>\n    <tr>\n      <th>54486</th>\n      <td>54486</td>\n      <td>1800</td>\n      <td>asia</td>\n      <td>Tokelau</td>\n      <td>NaN</td>\n      <td>NaN</td>\n      <td>1009.0</td>\n    </tr>\n    <tr>\n      <th>54487</th>\n      <td>54487</td>\n      <td>1800</td>\n      <td>asia</td>\n      <td>United Korea (former)</td>\n      <td>NaN</td>\n      <td>NaN</td>\n      <td>13740000.0</td>\n    </tr>\n    <tr>\n      <th>54488</th>\n      <td>54488</td>\n      <td>1800</td>\n      <td>europe</td>\n      <td>Yugoslavia</td>\n      <td>NaN</td>\n      <td>NaN</td>\n      <td>4687422.0</td>\n    </tr>\n  </tbody>\n</table>\n<p>54489 rows × 7 columns</p>\n</div>"
     },
     "metadata": {},
     "execution_count": 21
    }
   ],
   "source": [
    "df.reset_index()"
   ]
  },
  {
   "cell_type": "code",
   "execution_count": 22,
   "metadata": {},
   "outputs": [
    {
     "output_type": "execute_result",
     "data": {
      "text/plain": "0     6598.0\n1     8038.0\n2    14078.0\n3     4619.0\n4        0.0\nName: income, dtype: float64"
     },
     "metadata": {},
     "execution_count": 22
    }
   ],
   "source": [
    "df['income'].fillna(value = 0).head()"
   ]
  },
  {
   "cell_type": "code",
   "execution_count": 23,
   "metadata": {},
   "outputs": [
    {
     "output_type": "execute_result",
     "data": {
      "text/plain": "<pandas.core.groupby.generic.DataFrameGroupBy object at 0x000001A570A3AB88>"
     },
     "metadata": {},
     "execution_count": 23
    }
   ],
   "source": [
    "by_year = df.groupby('year')\n",
    "by_year"
   ]
  },
  {
   "cell_type": "code",
   "execution_count": 24,
   "metadata": {},
   "outputs": [
    {
     "output_type": "execute_result",
     "data": {
      "text/plain": "            income   life_exp    population\nyear                                       \n1800    946.288557  31.486020  4.149630e+06\n1801    946.661692  31.448905  4.167524e+06\n1802    949.452736  31.463483  4.185563e+06\n1803    949.194030  31.377413  4.203777e+06\n1804    950.751244  31.446318  4.222136e+06\n...            ...        ...           ...\n2010  17559.950739  70.969904  2.948360e+07\n2011  18019.333333  71.324375  3.048871e+07\n2012  18127.674877  71.663077  3.085723e+07\n2013  18305.502463  71.916106  3.122610e+07\n2014  18628.310345  72.088125  3.159399e+07\n\n[215 rows x 3 columns]",
      "text/html": "<div>\n<style scoped>\n    .dataframe tbody tr th:only-of-type {\n        vertical-align: middle;\n    }\n\n    .dataframe tbody tr th {\n        vertical-align: top;\n    }\n\n    .dataframe thead th {\n        text-align: right;\n    }\n</style>\n<table border=\"1\" class=\"dataframe\">\n  <thead>\n    <tr style=\"text-align: right;\">\n      <th></th>\n      <th>income</th>\n      <th>life_exp</th>\n      <th>population</th>\n    </tr>\n    <tr>\n      <th>year</th>\n      <th></th>\n      <th></th>\n      <th></th>\n    </tr>\n  </thead>\n  <tbody>\n    <tr>\n      <th>1800</th>\n      <td>946.288557</td>\n      <td>31.486020</td>\n      <td>4.149630e+06</td>\n    </tr>\n    <tr>\n      <th>1801</th>\n      <td>946.661692</td>\n      <td>31.448905</td>\n      <td>4.167524e+06</td>\n    </tr>\n    <tr>\n      <th>1802</th>\n      <td>949.452736</td>\n      <td>31.463483</td>\n      <td>4.185563e+06</td>\n    </tr>\n    <tr>\n      <th>1803</th>\n      <td>949.194030</td>\n      <td>31.377413</td>\n      <td>4.203777e+06</td>\n    </tr>\n    <tr>\n      <th>1804</th>\n      <td>950.751244</td>\n      <td>31.446318</td>\n      <td>4.222136e+06</td>\n    </tr>\n    <tr>\n      <th>...</th>\n      <td>...</td>\n      <td>...</td>\n      <td>...</td>\n    </tr>\n    <tr>\n      <th>2010</th>\n      <td>17559.950739</td>\n      <td>70.969904</td>\n      <td>2.948360e+07</td>\n    </tr>\n    <tr>\n      <th>2011</th>\n      <td>18019.333333</td>\n      <td>71.324375</td>\n      <td>3.048871e+07</td>\n    </tr>\n    <tr>\n      <th>2012</th>\n      <td>18127.674877</td>\n      <td>71.663077</td>\n      <td>3.085723e+07</td>\n    </tr>\n    <tr>\n      <th>2013</th>\n      <td>18305.502463</td>\n      <td>71.916106</td>\n      <td>3.122610e+07</td>\n    </tr>\n    <tr>\n      <th>2014</th>\n      <td>18628.310345</td>\n      <td>72.088125</td>\n      <td>3.159399e+07</td>\n    </tr>\n  </tbody>\n</table>\n<p>215 rows × 3 columns</p>\n</div>"
     },
     "metadata": {},
     "execution_count": 24
    }
   ],
   "source": [
    "by_year.mean()"
   ]
  },
  {
   "cell_type": "code",
   "execution_count": 25,
   "metadata": {},
   "outputs": [
    {
     "output_type": "execute_result",
     "data": {
      "text/plain": "     income                                                               \\\n      count        mean         std    min    25%    50%     75%     max   \nyear                                                                       \n1800  201.0  946.288557  502.228769  350.0  608.0  850.0  1097.0  4235.0   \n1801  201.0  946.661692  500.413744  350.0  608.0  852.0  1101.0  4161.0   \n1802  201.0  949.452736  510.208133  350.0  608.0  853.0  1105.0  4391.0   \n1803  201.0  949.194030  505.071586  350.0  609.0  854.0  1110.0  4297.0   \n1804  201.0  950.751244  512.245476  350.0  609.0  854.0  1114.0  4502.0   \n\n     life_exp             ...               population                \\\n        count       mean  ...    75%    max      count          mean   \nyear                      ...                                          \n1800    201.0  31.486020  ...  33.90  42.85      254.0  4.149630e+06   \n1801    201.0  31.448905  ...  33.90  40.30      254.0  4.167524e+06   \n1802    201.0  31.463483  ...  33.90  44.37      254.0  4.185563e+06   \n1803    201.0  31.377413  ...  33.80  44.84      254.0  4.203777e+06   \n1804    201.0  31.446318  ...  33.87  42.83      254.0  4.222136e+06   \n\n                                                                     \n               std  min      25%       50%         75%          max  \nyear                                                                 \n1800  2.320847e+07  0.0  31750.0  396432.5  1989821.00  321675014.0  \n1801  2.336951e+07  0.0  31750.0  396432.5  1996964.50  324408863.0  \n1802  2.353204e+07  0.0  31750.0  396432.5  1998352.00  327165946.0  \n1803  2.369607e+07  0.0  31750.0  396432.5  1999743.50  329946461.0  \n1804  2.386161e+07  0.0  31750.0  396432.5  2003416.25  332750607.0  \n\n[5 rows x 24 columns]",
      "text/html": "<div>\n<style scoped>\n    .dataframe tbody tr th:only-of-type {\n        vertical-align: middle;\n    }\n\n    .dataframe tbody tr th {\n        vertical-align: top;\n    }\n\n    .dataframe thead tr th {\n        text-align: left;\n    }\n\n    .dataframe thead tr:last-of-type th {\n        text-align: right;\n    }\n</style>\n<table border=\"1\" class=\"dataframe\">\n  <thead>\n    <tr>\n      <th></th>\n      <th colspan=\"8\" halign=\"left\">income</th>\n      <th colspan=\"5\" halign=\"left\">life_exp</th>\n      <th colspan=\"8\" halign=\"left\">population</th>\n    </tr>\n    <tr>\n      <th></th>\n      <th>count</th>\n      <th>mean</th>\n      <th>std</th>\n      <th>min</th>\n      <th>25%</th>\n      <th>50%</th>\n      <th>75%</th>\n      <th>max</th>\n      <th>count</th>\n      <th>mean</th>\n      <th>...</th>\n      <th>75%</th>\n      <th>max</th>\n      <th>count</th>\n      <th>mean</th>\n      <th>std</th>\n      <th>min</th>\n      <th>25%</th>\n      <th>50%</th>\n      <th>75%</th>\n      <th>max</th>\n    </tr>\n    <tr>\n      <th>year</th>\n      <th></th>\n      <th></th>\n      <th></th>\n      <th></th>\n      <th></th>\n      <th></th>\n      <th></th>\n      <th></th>\n      <th></th>\n      <th></th>\n      <th></th>\n      <th></th>\n      <th></th>\n      <th></th>\n      <th></th>\n      <th></th>\n      <th></th>\n      <th></th>\n      <th></th>\n      <th></th>\n      <th></th>\n    </tr>\n  </thead>\n  <tbody>\n    <tr>\n      <th>1800</th>\n      <td>201.0</td>\n      <td>946.288557</td>\n      <td>502.228769</td>\n      <td>350.0</td>\n      <td>608.0</td>\n      <td>850.0</td>\n      <td>1097.0</td>\n      <td>4235.0</td>\n      <td>201.0</td>\n      <td>31.486020</td>\n      <td>...</td>\n      <td>33.90</td>\n      <td>42.85</td>\n      <td>254.0</td>\n      <td>4.149630e+06</td>\n      <td>2.320847e+07</td>\n      <td>0.0</td>\n      <td>31750.0</td>\n      <td>396432.5</td>\n      <td>1989821.00</td>\n      <td>321675014.0</td>\n    </tr>\n    <tr>\n      <th>1801</th>\n      <td>201.0</td>\n      <td>946.661692</td>\n      <td>500.413744</td>\n      <td>350.0</td>\n      <td>608.0</td>\n      <td>852.0</td>\n      <td>1101.0</td>\n      <td>4161.0</td>\n      <td>201.0</td>\n      <td>31.448905</td>\n      <td>...</td>\n      <td>33.90</td>\n      <td>40.30</td>\n      <td>254.0</td>\n      <td>4.167524e+06</td>\n      <td>2.336951e+07</td>\n      <td>0.0</td>\n      <td>31750.0</td>\n      <td>396432.5</td>\n      <td>1996964.50</td>\n      <td>324408863.0</td>\n    </tr>\n    <tr>\n      <th>1802</th>\n      <td>201.0</td>\n      <td>949.452736</td>\n      <td>510.208133</td>\n      <td>350.0</td>\n      <td>608.0</td>\n      <td>853.0</td>\n      <td>1105.0</td>\n      <td>4391.0</td>\n      <td>201.0</td>\n      <td>31.463483</td>\n      <td>...</td>\n      <td>33.90</td>\n      <td>44.37</td>\n      <td>254.0</td>\n      <td>4.185563e+06</td>\n      <td>2.353204e+07</td>\n      <td>0.0</td>\n      <td>31750.0</td>\n      <td>396432.5</td>\n      <td>1998352.00</td>\n      <td>327165946.0</td>\n    </tr>\n    <tr>\n      <th>1803</th>\n      <td>201.0</td>\n      <td>949.194030</td>\n      <td>505.071586</td>\n      <td>350.0</td>\n      <td>609.0</td>\n      <td>854.0</td>\n      <td>1110.0</td>\n      <td>4297.0</td>\n      <td>201.0</td>\n      <td>31.377413</td>\n      <td>...</td>\n      <td>33.80</td>\n      <td>44.84</td>\n      <td>254.0</td>\n      <td>4.203777e+06</td>\n      <td>2.369607e+07</td>\n      <td>0.0</td>\n      <td>31750.0</td>\n      <td>396432.5</td>\n      <td>1999743.50</td>\n      <td>329946461.0</td>\n    </tr>\n    <tr>\n      <th>1804</th>\n      <td>201.0</td>\n      <td>950.751244</td>\n      <td>512.245476</td>\n      <td>350.0</td>\n      <td>609.0</td>\n      <td>854.0</td>\n      <td>1114.0</td>\n      <td>4502.0</td>\n      <td>201.0</td>\n      <td>31.446318</td>\n      <td>...</td>\n      <td>33.87</td>\n      <td>42.83</td>\n      <td>254.0</td>\n      <td>4.222136e+06</td>\n      <td>2.386161e+07</td>\n      <td>0.0</td>\n      <td>31750.0</td>\n      <td>396432.5</td>\n      <td>2003416.25</td>\n      <td>332750607.0</td>\n    </tr>\n  </tbody>\n</table>\n<p>5 rows × 24 columns</p>\n</div>"
     },
     "metadata": {},
     "execution_count": 25
    }
   ],
   "source": [
    "by_year.describe().head()"
   ]
  },
  {
   "cell_type": "code",
   "execution_count": 26,
   "metadata": {},
   "outputs": [
    {
     "output_type": "execute_result",
     "data": {
      "text/plain": "      count          mean           std    min      25%      50%      75%  \\\nyear                                                                        \n1800  201.0    946.288557    502.228769  350.0   608.00    850.0   1097.0   \n1801  201.0    946.661692    500.413744  350.0   608.00    852.0   1101.0   \n1802  201.0    949.452736    510.208133  350.0   608.00    853.0   1105.0   \n1803  201.0    949.194030    505.071586  350.0   609.00    854.0   1110.0   \n1804  201.0    950.751244    512.245476  350.0   609.00    854.0   1114.0   \n...     ...           ...           ...    ...      ...      ...      ...   \n2010  203.0  17559.950739  19685.759131  614.0  3394.00  10515.0  24702.0   \n2011  204.0  18019.333333  20420.280357  614.0  3508.75  11049.0  25232.0   \n2012  203.0  18127.674877  20504.649685  616.0  3675.00  11046.0  24876.0   \n2013  203.0  18305.502463  20782.622473  584.0  3788.00  11405.0  25029.5   \n2014  203.0  18628.310345  21262.409355  578.0  3796.50  11514.0  25786.5   \n\n           max  \nyear            \n1800    4235.0  \n1801    4161.0  \n1802    4391.0  \n1803    4297.0  \n1804    4502.0  \n...        ...  \n2010  127984.0  \n2011  133734.0  \n2012  130990.0  \n2013  136540.0  \n2014  142893.0  \n\n[215 rows x 8 columns]",
      "text/html": "<div>\n<style scoped>\n    .dataframe tbody tr th:only-of-type {\n        vertical-align: middle;\n    }\n\n    .dataframe tbody tr th {\n        vertical-align: top;\n    }\n\n    .dataframe thead th {\n        text-align: right;\n    }\n</style>\n<table border=\"1\" class=\"dataframe\">\n  <thead>\n    <tr style=\"text-align: right;\">\n      <th></th>\n      <th>count</th>\n      <th>mean</th>\n      <th>std</th>\n      <th>min</th>\n      <th>25%</th>\n      <th>50%</th>\n      <th>75%</th>\n      <th>max</th>\n    </tr>\n    <tr>\n      <th>year</th>\n      <th></th>\n      <th></th>\n      <th></th>\n      <th></th>\n      <th></th>\n      <th></th>\n      <th></th>\n      <th></th>\n    </tr>\n  </thead>\n  <tbody>\n    <tr>\n      <th>1800</th>\n      <td>201.0</td>\n      <td>946.288557</td>\n      <td>502.228769</td>\n      <td>350.0</td>\n      <td>608.00</td>\n      <td>850.0</td>\n      <td>1097.0</td>\n      <td>4235.0</td>\n    </tr>\n    <tr>\n      <th>1801</th>\n      <td>201.0</td>\n      <td>946.661692</td>\n      <td>500.413744</td>\n      <td>350.0</td>\n      <td>608.00</td>\n      <td>852.0</td>\n      <td>1101.0</td>\n      <td>4161.0</td>\n    </tr>\n    <tr>\n      <th>1802</th>\n      <td>201.0</td>\n      <td>949.452736</td>\n      <td>510.208133</td>\n      <td>350.0</td>\n      <td>608.00</td>\n      <td>853.0</td>\n      <td>1105.0</td>\n      <td>4391.0</td>\n    </tr>\n    <tr>\n      <th>1803</th>\n      <td>201.0</td>\n      <td>949.194030</td>\n      <td>505.071586</td>\n      <td>350.0</td>\n      <td>609.00</td>\n      <td>854.0</td>\n      <td>1110.0</td>\n      <td>4297.0</td>\n    </tr>\n    <tr>\n      <th>1804</th>\n      <td>201.0</td>\n      <td>950.751244</td>\n      <td>512.245476</td>\n      <td>350.0</td>\n      <td>609.00</td>\n      <td>854.0</td>\n      <td>1114.0</td>\n      <td>4502.0</td>\n    </tr>\n    <tr>\n      <th>...</th>\n      <td>...</td>\n      <td>...</td>\n      <td>...</td>\n      <td>...</td>\n      <td>...</td>\n      <td>...</td>\n      <td>...</td>\n      <td>...</td>\n    </tr>\n    <tr>\n      <th>2010</th>\n      <td>203.0</td>\n      <td>17559.950739</td>\n      <td>19685.759131</td>\n      <td>614.0</td>\n      <td>3394.00</td>\n      <td>10515.0</td>\n      <td>24702.0</td>\n      <td>127984.0</td>\n    </tr>\n    <tr>\n      <th>2011</th>\n      <td>204.0</td>\n      <td>18019.333333</td>\n      <td>20420.280357</td>\n      <td>614.0</td>\n      <td>3508.75</td>\n      <td>11049.0</td>\n      <td>25232.0</td>\n      <td>133734.0</td>\n    </tr>\n    <tr>\n      <th>2012</th>\n      <td>203.0</td>\n      <td>18127.674877</td>\n      <td>20504.649685</td>\n      <td>616.0</td>\n      <td>3675.00</td>\n      <td>11046.0</td>\n      <td>24876.0</td>\n      <td>130990.0</td>\n    </tr>\n    <tr>\n      <th>2013</th>\n      <td>203.0</td>\n      <td>18305.502463</td>\n      <td>20782.622473</td>\n      <td>584.0</td>\n      <td>3788.00</td>\n      <td>11405.0</td>\n      <td>25029.5</td>\n      <td>136540.0</td>\n    </tr>\n    <tr>\n      <th>2014</th>\n      <td>203.0</td>\n      <td>18628.310345</td>\n      <td>21262.409355</td>\n      <td>578.0</td>\n      <td>3796.50</td>\n      <td>11514.0</td>\n      <td>25786.5</td>\n      <td>142893.0</td>\n    </tr>\n  </tbody>\n</table>\n<p>215 rows × 8 columns</p>\n</div>"
     },
     "metadata": {},
     "execution_count": 26
    }
   ],
   "source": [
    "by_year.describe()['income']"
   ]
  },
  {
   "cell_type": "code",
   "execution_count": 27,
   "metadata": {},
   "outputs": [
    {
     "output_type": "execute_result",
     "data": {
      "text/plain": "array(['asia', 'americas', 'europe', 'africa'], dtype=object)"
     },
     "metadata": {},
     "execution_count": 27
    }
   ],
   "source": [
    "df['continent'].unique()"
   ]
  },
  {
   "cell_type": "code",
   "execution_count": 28,
   "metadata": {},
   "outputs": [
    {
     "output_type": "execute_result",
     "data": {
      "text/plain": "4"
     },
     "metadata": {},
     "execution_count": 28
    }
   ],
   "source": [
    "df['continent'].nunique()"
   ]
  },
  {
   "cell_type": "code",
   "execution_count": 29,
   "metadata": {},
   "outputs": [
    {
     "output_type": "execute_result",
     "data": {
      "text/plain": "asia        16304\neurope      14335\nafrica      12679\namericas    11171\nName: continent, dtype: int64"
     },
     "metadata": {},
     "execution_count": 29
    }
   ],
   "source": [
    "df['continent'].value_counts()"
   ]
  },
  {
   "cell_type": "code",
   "execution_count": 30,
   "metadata": {},
   "outputs": [],
   "source": [
    "asia_df = df[ df['continent'] == 'asia' ]\n",
    "europe_df = df[ df['continent'] == 'europe' ]\n",
    "africa_df = df[ df['continent'] == 'africa' ]\n",
    "america_df = df[ df['continent'] == 'america' ]"
   ]
  },
  {
   "cell_type": "code",
   "execution_count": 31,
   "metadata": {},
   "outputs": [
    {
     "output_type": "execute_result",
     "data": {
      "text/plain": "              year                                                          \\\n             count         mean        std     min     25%     50%     75%   \ncontinent                                                                    \nafrica     12679.0  1906.950548  62.039946  1800.0  1853.0  1907.0  1961.0   \namericas   11171.0  1906.915406  62.020610  1800.0  1853.0  1907.0  1961.0   \nasia       16304.0  1906.768523  61.938800  1800.0  1853.0  1907.0  1960.0   \neurope     14335.0  1906.489431  61.785256  1800.0  1853.0  1906.0  1960.0   \n\n                    income               ... life_exp        population  \\\n              max    count         mean  ...      75%    max      count   \ncontinent                                ...                              \nafrica     2014.0  11610.0  1690.989922  ...   43.035  79.89    12679.0   \namericas   2014.0   8601.0  4785.907220  ...   60.265  81.70    11170.0   \nasia       2014.0  12900.0  4964.615349  ...   54.050  83.56    16304.0   \neurope     2014.0  10325.0  7291.621308  ...   67.945  84.80    14329.0   \n\n                                                                     \\\n                   mean           std     min        25%        50%   \ncontinent                                                             \nafrica     4.597465e+06  1.069991e+07  1997.0  378231.50  1462023.0   \namericas   5.382707e+06  2.363645e+07   100.0   29409.00   182820.5   \nasia       1.942510e+07  9.539440e+07     0.0   34729.25   563606.0   \neurope     1.051425e+07  2.531813e+07    50.0  184610.00  2501071.0   \n\n                                     \n                  75%           max  \ncontinent                            \nafrica     3996569.50  1.764605e+08  \namericas   1675228.75  3.177188e+08  \nasia       4797171.75  1.390110e+09  \neurope     8464787.00  2.914296e+08  \n\n[4 rows x 32 columns]",
      "text/html": "<div>\n<style scoped>\n    .dataframe tbody tr th:only-of-type {\n        vertical-align: middle;\n    }\n\n    .dataframe tbody tr th {\n        vertical-align: top;\n    }\n\n    .dataframe thead tr th {\n        text-align: left;\n    }\n\n    .dataframe thead tr:last-of-type th {\n        text-align: right;\n    }\n</style>\n<table border=\"1\" class=\"dataframe\">\n  <thead>\n    <tr>\n      <th></th>\n      <th colspan=\"8\" halign=\"left\">year</th>\n      <th colspan=\"2\" halign=\"left\">income</th>\n      <th>...</th>\n      <th colspan=\"2\" halign=\"left\">life_exp</th>\n      <th colspan=\"8\" halign=\"left\">population</th>\n    </tr>\n    <tr>\n      <th></th>\n      <th>count</th>\n      <th>mean</th>\n      <th>std</th>\n      <th>min</th>\n      <th>25%</th>\n      <th>50%</th>\n      <th>75%</th>\n      <th>max</th>\n      <th>count</th>\n      <th>mean</th>\n      <th>...</th>\n      <th>75%</th>\n      <th>max</th>\n      <th>count</th>\n      <th>mean</th>\n      <th>std</th>\n      <th>min</th>\n      <th>25%</th>\n      <th>50%</th>\n      <th>75%</th>\n      <th>max</th>\n    </tr>\n    <tr>\n      <th>continent</th>\n      <th></th>\n      <th></th>\n      <th></th>\n      <th></th>\n      <th></th>\n      <th></th>\n      <th></th>\n      <th></th>\n      <th></th>\n      <th></th>\n      <th></th>\n      <th></th>\n      <th></th>\n      <th></th>\n      <th></th>\n      <th></th>\n      <th></th>\n      <th></th>\n      <th></th>\n      <th></th>\n      <th></th>\n    </tr>\n  </thead>\n  <tbody>\n    <tr>\n      <th>africa</th>\n      <td>12679.0</td>\n      <td>1906.950548</td>\n      <td>62.039946</td>\n      <td>1800.0</td>\n      <td>1853.0</td>\n      <td>1907.0</td>\n      <td>1961.0</td>\n      <td>2014.0</td>\n      <td>11610.0</td>\n      <td>1690.989922</td>\n      <td>...</td>\n      <td>43.035</td>\n      <td>79.89</td>\n      <td>12679.0</td>\n      <td>4.597465e+06</td>\n      <td>1.069991e+07</td>\n      <td>1997.0</td>\n      <td>378231.50</td>\n      <td>1462023.0</td>\n      <td>3996569.50</td>\n      <td>1.764605e+08</td>\n    </tr>\n    <tr>\n      <th>americas</th>\n      <td>11171.0</td>\n      <td>1906.915406</td>\n      <td>62.020610</td>\n      <td>1800.0</td>\n      <td>1853.0</td>\n      <td>1907.0</td>\n      <td>1961.0</td>\n      <td>2014.0</td>\n      <td>8601.0</td>\n      <td>4785.907220</td>\n      <td>...</td>\n      <td>60.265</td>\n      <td>81.70</td>\n      <td>11170.0</td>\n      <td>5.382707e+06</td>\n      <td>2.363645e+07</td>\n      <td>100.0</td>\n      <td>29409.00</td>\n      <td>182820.5</td>\n      <td>1675228.75</td>\n      <td>3.177188e+08</td>\n    </tr>\n    <tr>\n      <th>asia</th>\n      <td>16304.0</td>\n      <td>1906.768523</td>\n      <td>61.938800</td>\n      <td>1800.0</td>\n      <td>1853.0</td>\n      <td>1907.0</td>\n      <td>1960.0</td>\n      <td>2014.0</td>\n      <td>12900.0</td>\n      <td>4964.615349</td>\n      <td>...</td>\n      <td>54.050</td>\n      <td>83.56</td>\n      <td>16304.0</td>\n      <td>1.942510e+07</td>\n      <td>9.539440e+07</td>\n      <td>0.0</td>\n      <td>34729.25</td>\n      <td>563606.0</td>\n      <td>4797171.75</td>\n      <td>1.390110e+09</td>\n    </tr>\n    <tr>\n      <th>europe</th>\n      <td>14335.0</td>\n      <td>1906.489431</td>\n      <td>61.785256</td>\n      <td>1800.0</td>\n      <td>1853.0</td>\n      <td>1906.0</td>\n      <td>1960.0</td>\n      <td>2014.0</td>\n      <td>10325.0</td>\n      <td>7291.621308</td>\n      <td>...</td>\n      <td>67.945</td>\n      <td>84.80</td>\n      <td>14329.0</td>\n      <td>1.051425e+07</td>\n      <td>2.531813e+07</td>\n      <td>50.0</td>\n      <td>184610.00</td>\n      <td>2501071.0</td>\n      <td>8464787.00</td>\n      <td>2.914296e+08</td>\n    </tr>\n  </tbody>\n</table>\n<p>4 rows × 32 columns</p>\n</div>"
     },
     "metadata": {},
     "execution_count": 31
    }
   ],
   "source": [
    "df.groupby('continent').describe()"
   ]
  },
  {
   "cell_type": "code",
   "execution_count": 32,
   "metadata": {},
   "outputs": [
    {
     "output_type": "execute_result",
     "data": {
      "text/plain": "                       count       mean        std    min     25%    50%  \\\ncountry                                                                    \nAkrotiri and Dhekelia    0.0        NaN        NaN    NaN     NaN    NaN   \nAlbania                215.0  46.402558  16.117605  19.43  35.400  35.40   \nAndorra                 25.0  83.652000   1.055194  81.70  82.800  84.10   \nArmenia                215.0  46.354140  16.408810  22.63  34.000  36.20   \nAustria                215.0  50.223256  17.193117  31.39  34.400  41.53   \n...                      ...        ...        ...    ...     ...    ...   \nUkraine                215.0  47.049256  15.262505   9.05  36.600  36.60   \nUnited Kingdom         215.0  55.329023  14.535273  37.32  41.685  49.11   \nWest Germany             0.0        NaN        NaN    NaN     NaN    NaN   \nYugoslavia               0.0        NaN        NaN    NaN     NaN    NaN   \nÅland                   10.0  80.139000   1.023582  78.25  79.910  80.05   \n\n                          75%    max  \ncountry                               \nAkrotiri and Dhekelia     NaN    NaN  \nAlbania                63.395  77.90  \nAndorra                84.600  84.80  \nArmenia                67.095  74.50  \nAustria                69.130  81.20  \n...                       ...    ...  \nUkraine                67.245  71.97  \nUnited Kingdom         70.790  80.90  \nWest Germany              NaN    NaN  \nYugoslavia                NaN    NaN  \nÅland                  80.780  81.80  \n\n[67 rows x 8 columns]",
      "text/html": "<div>\n<style scoped>\n    .dataframe tbody tr th:only-of-type {\n        vertical-align: middle;\n    }\n\n    .dataframe tbody tr th {\n        vertical-align: top;\n    }\n\n    .dataframe thead th {\n        text-align: right;\n    }\n</style>\n<table border=\"1\" class=\"dataframe\">\n  <thead>\n    <tr style=\"text-align: right;\">\n      <th></th>\n      <th>count</th>\n      <th>mean</th>\n      <th>std</th>\n      <th>min</th>\n      <th>25%</th>\n      <th>50%</th>\n      <th>75%</th>\n      <th>max</th>\n    </tr>\n    <tr>\n      <th>country</th>\n      <th></th>\n      <th></th>\n      <th></th>\n      <th></th>\n      <th></th>\n      <th></th>\n      <th></th>\n      <th></th>\n    </tr>\n  </thead>\n  <tbody>\n    <tr>\n      <th>Akrotiri and Dhekelia</th>\n      <td>0.0</td>\n      <td>NaN</td>\n      <td>NaN</td>\n      <td>NaN</td>\n      <td>NaN</td>\n      <td>NaN</td>\n      <td>NaN</td>\n      <td>NaN</td>\n    </tr>\n    <tr>\n      <th>Albania</th>\n      <td>215.0</td>\n      <td>46.402558</td>\n      <td>16.117605</td>\n      <td>19.43</td>\n      <td>35.400</td>\n      <td>35.40</td>\n      <td>63.395</td>\n      <td>77.90</td>\n    </tr>\n    <tr>\n      <th>Andorra</th>\n      <td>25.0</td>\n      <td>83.652000</td>\n      <td>1.055194</td>\n      <td>81.70</td>\n      <td>82.800</td>\n      <td>84.10</td>\n      <td>84.600</td>\n      <td>84.80</td>\n    </tr>\n    <tr>\n      <th>Armenia</th>\n      <td>215.0</td>\n      <td>46.354140</td>\n      <td>16.408810</td>\n      <td>22.63</td>\n      <td>34.000</td>\n      <td>36.20</td>\n      <td>67.095</td>\n      <td>74.50</td>\n    </tr>\n    <tr>\n      <th>Austria</th>\n      <td>215.0</td>\n      <td>50.223256</td>\n      <td>17.193117</td>\n      <td>31.39</td>\n      <td>34.400</td>\n      <td>41.53</td>\n      <td>69.130</td>\n      <td>81.20</td>\n    </tr>\n    <tr>\n      <th>...</th>\n      <td>...</td>\n      <td>...</td>\n      <td>...</td>\n      <td>...</td>\n      <td>...</td>\n      <td>...</td>\n      <td>...</td>\n      <td>...</td>\n    </tr>\n    <tr>\n      <th>Ukraine</th>\n      <td>215.0</td>\n      <td>47.049256</td>\n      <td>15.262505</td>\n      <td>9.05</td>\n      <td>36.600</td>\n      <td>36.60</td>\n      <td>67.245</td>\n      <td>71.97</td>\n    </tr>\n    <tr>\n      <th>United Kingdom</th>\n      <td>215.0</td>\n      <td>55.329023</td>\n      <td>14.535273</td>\n      <td>37.32</td>\n      <td>41.685</td>\n      <td>49.11</td>\n      <td>70.790</td>\n      <td>80.90</td>\n    </tr>\n    <tr>\n      <th>West Germany</th>\n      <td>0.0</td>\n      <td>NaN</td>\n      <td>NaN</td>\n      <td>NaN</td>\n      <td>NaN</td>\n      <td>NaN</td>\n      <td>NaN</td>\n      <td>NaN</td>\n    </tr>\n    <tr>\n      <th>Yugoslavia</th>\n      <td>0.0</td>\n      <td>NaN</td>\n      <td>NaN</td>\n      <td>NaN</td>\n      <td>NaN</td>\n      <td>NaN</td>\n      <td>NaN</td>\n      <td>NaN</td>\n    </tr>\n    <tr>\n      <th>Åland</th>\n      <td>10.0</td>\n      <td>80.139000</td>\n      <td>1.023582</td>\n      <td>78.25</td>\n      <td>79.910</td>\n      <td>80.05</td>\n      <td>80.780</td>\n      <td>81.80</td>\n    </tr>\n  </tbody>\n</table>\n<p>67 rows × 8 columns</p>\n</div>"
     },
     "metadata": {},
     "execution_count": 32
    }
   ],
   "source": [
    "df[ df['continent'] == 'europe' ].groupby('country').describe()['life_exp']"
   ]
  },
  {
   "cell_type": "code",
   "execution_count": 33,
   "metadata": {},
   "outputs": [
    {
     "output_type": "execute_result",
     "data": {
      "text/plain": "Index(['year', 'continent', 'country', 'income', 'life_exp', 'population'], dtype='object')"
     },
     "metadata": {},
     "execution_count": 33
    }
   ],
   "source": [
    "df.columns"
   ]
  },
  {
   "cell_type": "code",
   "execution_count": 34,
   "metadata": {},
   "outputs": [
    {
     "output_type": "execute_result",
     "data": {
      "text/plain": "       year continent                 country  income  life_exp  population\n24449  1918      asia                   Samoa  2047.0       1.0     36589.0\n35272  1875      asia                    Fiji   949.0       1.0    128877.0\n24487  1918      asia        French Polynesia     NaN       1.0     34036.0\n49628  1819    africa                 Tunisia   718.0       1.5    874347.0\n31424  1890    africa                Ethiopia   537.0       4.0   7911486.0\n...     ...       ...                     ...     ...       ...         ...\n54484  1800  americas  St.-Pierre-et-Miquelon     NaN       NaN      1782.0\n54485  1800    europe                Svalbard     NaN       NaN        50.0\n54486  1800      asia                 Tokelau     NaN       NaN      1009.0\n54487  1800      asia   United Korea (former)     NaN       NaN  13740000.0\n54488  1800    europe              Yugoslavia     NaN       NaN   4687422.0\n\n[54489 rows x 6 columns]",
      "text/html": "<div>\n<style scoped>\n    .dataframe tbody tr th:only-of-type {\n        vertical-align: middle;\n    }\n\n    .dataframe tbody tr th {\n        vertical-align: top;\n    }\n\n    .dataframe thead th {\n        text-align: right;\n    }\n</style>\n<table border=\"1\" class=\"dataframe\">\n  <thead>\n    <tr style=\"text-align: right;\">\n      <th></th>\n      <th>year</th>\n      <th>continent</th>\n      <th>country</th>\n      <th>income</th>\n      <th>life_exp</th>\n      <th>population</th>\n    </tr>\n  </thead>\n  <tbody>\n    <tr>\n      <th>24449</th>\n      <td>1918</td>\n      <td>asia</td>\n      <td>Samoa</td>\n      <td>2047.0</td>\n      <td>1.0</td>\n      <td>36589.0</td>\n    </tr>\n    <tr>\n      <th>35272</th>\n      <td>1875</td>\n      <td>asia</td>\n      <td>Fiji</td>\n      <td>949.0</td>\n      <td>1.0</td>\n      <td>128877.0</td>\n    </tr>\n    <tr>\n      <th>24487</th>\n      <td>1918</td>\n      <td>asia</td>\n      <td>French Polynesia</td>\n      <td>NaN</td>\n      <td>1.0</td>\n      <td>34036.0</td>\n    </tr>\n    <tr>\n      <th>49628</th>\n      <td>1819</td>\n      <td>africa</td>\n      <td>Tunisia</td>\n      <td>718.0</td>\n      <td>1.5</td>\n      <td>874347.0</td>\n    </tr>\n    <tr>\n      <th>31424</th>\n      <td>1890</td>\n      <td>africa</td>\n      <td>Ethiopia</td>\n      <td>537.0</td>\n      <td>4.0</td>\n      <td>7911486.0</td>\n    </tr>\n    <tr>\n      <th>...</th>\n      <td>...</td>\n      <td>...</td>\n      <td>...</td>\n      <td>...</td>\n      <td>...</td>\n      <td>...</td>\n    </tr>\n    <tr>\n      <th>54484</th>\n      <td>1800</td>\n      <td>americas</td>\n      <td>St.-Pierre-et-Miquelon</td>\n      <td>NaN</td>\n      <td>NaN</td>\n      <td>1782.0</td>\n    </tr>\n    <tr>\n      <th>54485</th>\n      <td>1800</td>\n      <td>europe</td>\n      <td>Svalbard</td>\n      <td>NaN</td>\n      <td>NaN</td>\n      <td>50.0</td>\n    </tr>\n    <tr>\n      <th>54486</th>\n      <td>1800</td>\n      <td>asia</td>\n      <td>Tokelau</td>\n      <td>NaN</td>\n      <td>NaN</td>\n      <td>1009.0</td>\n    </tr>\n    <tr>\n      <th>54487</th>\n      <td>1800</td>\n      <td>asia</td>\n      <td>United Korea (former)</td>\n      <td>NaN</td>\n      <td>NaN</td>\n      <td>13740000.0</td>\n    </tr>\n    <tr>\n      <th>54488</th>\n      <td>1800</td>\n      <td>europe</td>\n      <td>Yugoslavia</td>\n      <td>NaN</td>\n      <td>NaN</td>\n      <td>4687422.0</td>\n    </tr>\n  </tbody>\n</table>\n<p>54489 rows × 6 columns</p>\n</div>"
     },
     "metadata": {},
     "execution_count": 34
    }
   ],
   "source": [
    "df.sort_values('life_exp')"
   ]
  },
  {
   "cell_type": "code",
   "execution_count": 35,
   "metadata": {},
   "outputs": [
    {
     "output_type": "execute_result",
     "data": {
      "text/plain": "       year continent                 country   income  life_exp  population\n373    2013    europe                 Andorra  43735.0      84.8     80788.0\n117    2014    europe                 Andorra  44929.0      84.8     79223.0\n959    2010    europe                 Andorra  38982.0      84.7     84449.0\n602    2012    europe                 Andorra  41926.0      84.7     82431.0\n724    2011    europe                 Andorra  41958.0      84.7     83751.0\n...     ...       ...                     ...      ...       ...         ...\n54484  1800  americas  St.-Pierre-et-Miquelon      NaN       NaN      1782.0\n54485  1800    europe                Svalbard      NaN       NaN        50.0\n54486  1800      asia                 Tokelau      NaN       NaN      1009.0\n54487  1800      asia   United Korea (former)      NaN       NaN  13740000.0\n54488  1800    europe              Yugoslavia      NaN       NaN   4687422.0\n\n[54489 rows x 6 columns]",
      "text/html": "<div>\n<style scoped>\n    .dataframe tbody tr th:only-of-type {\n        vertical-align: middle;\n    }\n\n    .dataframe tbody tr th {\n        vertical-align: top;\n    }\n\n    .dataframe thead th {\n        text-align: right;\n    }\n</style>\n<table border=\"1\" class=\"dataframe\">\n  <thead>\n    <tr style=\"text-align: right;\">\n      <th></th>\n      <th>year</th>\n      <th>continent</th>\n      <th>country</th>\n      <th>income</th>\n      <th>life_exp</th>\n      <th>population</th>\n    </tr>\n  </thead>\n  <tbody>\n    <tr>\n      <th>373</th>\n      <td>2013</td>\n      <td>europe</td>\n      <td>Andorra</td>\n      <td>43735.0</td>\n      <td>84.8</td>\n      <td>80788.0</td>\n    </tr>\n    <tr>\n      <th>117</th>\n      <td>2014</td>\n      <td>europe</td>\n      <td>Andorra</td>\n      <td>44929.0</td>\n      <td>84.8</td>\n      <td>79223.0</td>\n    </tr>\n    <tr>\n      <th>959</th>\n      <td>2010</td>\n      <td>europe</td>\n      <td>Andorra</td>\n      <td>38982.0</td>\n      <td>84.7</td>\n      <td>84449.0</td>\n    </tr>\n    <tr>\n      <th>602</th>\n      <td>2012</td>\n      <td>europe</td>\n      <td>Andorra</td>\n      <td>41926.0</td>\n      <td>84.7</td>\n      <td>82431.0</td>\n    </tr>\n    <tr>\n      <th>724</th>\n      <td>2011</td>\n      <td>europe</td>\n      <td>Andorra</td>\n      <td>41958.0</td>\n      <td>84.7</td>\n      <td>83751.0</td>\n    </tr>\n    <tr>\n      <th>...</th>\n      <td>...</td>\n      <td>...</td>\n      <td>...</td>\n      <td>...</td>\n      <td>...</td>\n      <td>...</td>\n    </tr>\n    <tr>\n      <th>54484</th>\n      <td>1800</td>\n      <td>americas</td>\n      <td>St.-Pierre-et-Miquelon</td>\n      <td>NaN</td>\n      <td>NaN</td>\n      <td>1782.0</td>\n    </tr>\n    <tr>\n      <th>54485</th>\n      <td>1800</td>\n      <td>europe</td>\n      <td>Svalbard</td>\n      <td>NaN</td>\n      <td>NaN</td>\n      <td>50.0</td>\n    </tr>\n    <tr>\n      <th>54486</th>\n      <td>1800</td>\n      <td>asia</td>\n      <td>Tokelau</td>\n      <td>NaN</td>\n      <td>NaN</td>\n      <td>1009.0</td>\n    </tr>\n    <tr>\n      <th>54487</th>\n      <td>1800</td>\n      <td>asia</td>\n      <td>United Korea (former)</td>\n      <td>NaN</td>\n      <td>NaN</td>\n      <td>13740000.0</td>\n    </tr>\n    <tr>\n      <th>54488</th>\n      <td>1800</td>\n      <td>europe</td>\n      <td>Yugoslavia</td>\n      <td>NaN</td>\n      <td>NaN</td>\n      <td>4687422.0</td>\n    </tr>\n  </tbody>\n</table>\n<p>54489 rows × 6 columns</p>\n</div>"
     },
     "metadata": {},
     "execution_count": 35
    }
   ],
   "source": [
    "df.sort_values('life_exp', ascending = False)"
   ]
  },
  {
   "cell_type": "code",
   "execution_count": 38,
   "metadata": {},
   "outputs": [
    {
     "output_type": "execute_result",
     "data": {
      "text/plain": "                      income\nyear continent              \n1800 africa       626.833333\n     americas    1023.900000\n     asia         853.183333\n     europe      1366.127660\n1801 africa       627.351852\n...                      ...\n2013 europe     29154.428571\n2014 africa      5367.425926\n     americas   18010.750000\n     asia       22030.183333\n     europe     29580.918367\n\n[860 rows x 1 columns]",
      "text/html": "<div>\n<style scoped>\n    .dataframe tbody tr th:only-of-type {\n        vertical-align: middle;\n    }\n\n    .dataframe tbody tr th {\n        vertical-align: top;\n    }\n\n    .dataframe thead th {\n        text-align: right;\n    }\n</style>\n<table border=\"1\" class=\"dataframe\">\n  <thead>\n    <tr style=\"text-align: right;\">\n      <th></th>\n      <th></th>\n      <th>income</th>\n    </tr>\n    <tr>\n      <th>year</th>\n      <th>continent</th>\n      <th></th>\n    </tr>\n  </thead>\n  <tbody>\n    <tr>\n      <th rowspan=\"4\" valign=\"top\">1800</th>\n      <th>africa</th>\n      <td>626.833333</td>\n    </tr>\n    <tr>\n      <th>americas</th>\n      <td>1023.900000</td>\n    </tr>\n    <tr>\n      <th>asia</th>\n      <td>853.183333</td>\n    </tr>\n    <tr>\n      <th>europe</th>\n      <td>1366.127660</td>\n    </tr>\n    <tr>\n      <th>1801</th>\n      <th>africa</th>\n      <td>627.351852</td>\n    </tr>\n    <tr>\n      <th>...</th>\n      <th>...</th>\n      <td>...</td>\n    </tr>\n    <tr>\n      <th>2013</th>\n      <th>europe</th>\n      <td>29154.428571</td>\n    </tr>\n    <tr>\n      <th rowspan=\"4\" valign=\"top\">2014</th>\n      <th>africa</th>\n      <td>5367.425926</td>\n    </tr>\n    <tr>\n      <th>americas</th>\n      <td>18010.750000</td>\n    </tr>\n    <tr>\n      <th>asia</th>\n      <td>22030.183333</td>\n    </tr>\n    <tr>\n      <th>europe</th>\n      <td>29580.918367</td>\n    </tr>\n  </tbody>\n</table>\n<p>860 rows × 1 columns</p>\n</div>"
     },
     "metadata": {},
     "execution_count": 38
    }
   ],
   "source": [
    "df.pivot_table(values = 'income', index = ['year', 'continent'])"
   ]
  },
  {
   "cell_type": "code",
   "execution_count": null,
   "metadata": {},
   "outputs": [],
   "source": []
  }
 ],
 "metadata": {
  "language_info": {
   "codemirror_mode": {
    "name": "ipython",
    "version": 3
   },
   "file_extension": ".py",
   "mimetype": "text/x-python",
   "name": "python",
   "nbconvert_exporter": "python",
   "pygments_lexer": "ipython3",
   "version": "3.7.7-final"
  },
  "orig_nbformat": 2,
  "kernelspec": {
   "name": "python3",
   "display_name": "Python 3"
  }
 },
 "nbformat": 4,
 "nbformat_minor": 2
}